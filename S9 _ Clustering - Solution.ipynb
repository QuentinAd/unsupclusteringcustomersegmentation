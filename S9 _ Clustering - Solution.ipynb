{
 "cells": [
  {
   "cell_type": "markdown",
   "metadata": {
    "deletable": false,
    "editable": false,
    "run_control": {
     "frozen": true
    }
   },
   "source": [
    "***\n",
    "***\n",
    "***\n",
    "\n",
    "<br><h2>Session 9 | Clustering</h2>\n",
    "<h4>DAT-5303 | Machine Learning</h4>\n",
    "Chase Kusterer - Faculty of Analytics<br>\n",
    "Hult International Business School<br><br><br>\n",
    "\n",
    "***\n",
    "***\n",
    "***"
   ]
  },
  {
   "cell_type": "markdown",
   "metadata": {
    "deletable": false,
    "editable": false,
    "run_control": {
     "frozen": true
    }
   },
   "source": [
    "<h3>Part I: Introduction and Preparation</h3><br>\n",
    "\n",
    "<strong>Clustering</strong><br>\n",
    "The concept of this technique is to divide the data into groups (i.e. clusters). There are several methods to accomplish this, but generally one of the following will occur:\n",
    "* observations will be grouped based on their similarities\n",
    "* observations will be separated based on their differences\n",
    "\n",
    "<br>\n",
    "Reminder: Distance-based unsupervised learning techniques require variance scaling.\n",
    "\n",
    "<br><br>\n",
    "<strong>Challenge 1</strong><br>\n",
    "Complete the code to import the following packages under their standard naming conventions:\n",
    "* pandas\n",
    "* matplotlib.pyplot\n",
    "* seaborn\n",
    "* StandardScaler\n",
    "* PCA"
   ]
  },
  {
   "cell_type": "code",
   "execution_count": null,
   "metadata": {
    "solution2": "hidden",
    "solution2_first": true
   },
   "outputs": [],
   "source": [
    "########################################\n",
    "# importing packages\n",
    "########################################\n",
    "_____\n",
    "\n"
   ]
  },
  {
   "cell_type": "code",
   "execution_count": null,
   "metadata": {
    "deletable": false,
    "editable": false,
    "solution2": "hidden"
   },
   "outputs": [],
   "source": [
    "########################################\n",
    "# importing packages\n",
    "########################################\n",
    "import pandas            as pd                   # data science essentials\n",
    "import matplotlib.pyplot as plt                  # fundamental data visualization\n",
    "import seaborn           as sns                  # enhanced visualizations\n",
    "from sklearn.preprocessing import StandardScaler # standard scaler\n",
    "from sklearn.decomposition import PCA            # pca"
   ]
  },
  {
   "cell_type": "markdown",
   "metadata": {
    "deletable": false,
    "editable": false,
    "run_control": {
     "frozen": true
    }
   },
   "source": [
    "***\n",
    "***\n",
    "\n",
    "<br>\n",
    "Run the following code to import new packages, load the dataset, and set print options."
   ]
  },
  {
   "cell_type": "code",
   "execution_count": null,
   "metadata": {
    "deletable": false,
    "editable": false
   },
   "outputs": [],
   "source": [
    "########################################\n",
    "# importing new packages\n",
    "########################################\n",
    "from scipy.cluster.hierarchy import dendrogram, linkage # dendrograms\n",
    "from sklearn.cluster         import KMeans              # k-means clustering\n",
    "\n",
    "\n",
    "########################################\n",
    "# loading data and setting display options\n",
    "########################################\n",
    "# loading data\n",
    "customers_df = pd.read_excel('top_customers_subset.xlsx')\n",
    "\n",
    "\n",
    "# setting print options\n",
    "pd.set_option('display.max_rows', 500)\n",
    "pd.set_option('display.max_columns', 500)\n",
    "pd.set_option('display.width', 1000)\n",
    "pd.set_option('display.max_colwidth', 100)"
   ]
  },
  {
   "cell_type": "markdown",
   "metadata": {
    "deletable": false,
    "editable": false,
    "run_control": {
     "frozen": true
    }
   },
   "source": [
    "***\n",
    "***\n",
    "\n",
    "<br>\n",
    "<strong>User-Defined Functions</strong><br>\n",
    "Run the following code to load the user-defined functions used throughout this Notebook."
   ]
  },
  {
   "cell_type": "code",
   "execution_count": null,
   "metadata": {
    "deletable": false,
    "editable": false
   },
   "outputs": [],
   "source": [
    "########################################\n",
    "# inertia\n",
    "########################################\n",
    "def interia_plot(data, max_clust = 50):\n",
    "    \"\"\"\n",
    "PARAMETERS\n",
    "----------\n",
    "data      : DataFrame, data from which to build clusters. Dataset should be scaled\n",
    "max_clust : int, maximum of range for how many clusters to check interia, default 50\n",
    "    \"\"\"\n",
    "\n",
    "    ks = range(1, max_clust)\n",
    "    inertias = []\n",
    "\n",
    "\n",
    "    for k in ks:\n",
    "        # INSTANTIATING a kmeans object\n",
    "        model = KMeans(n_clusters = k)\n",
    "\n",
    "\n",
    "        # FITTING to the data\n",
    "        model.fit(data)\n",
    "\n",
    "\n",
    "        # append each inertia to the list of inertias\n",
    "        inertias.append(model.inertia_)\n",
    "\n",
    "\n",
    "\n",
    "    # plotting ks vs inertias\n",
    "    fig, ax = plt.subplots(figsize = (12, 8))\n",
    "    plt.plot(ks, inertias, '-o')\n",
    "\n",
    "\n",
    "    # labeling and displaying the plot\n",
    "    plt.xlabel('number of clusters, k')\n",
    "    plt.ylabel('inertia')\n",
    "    plt.xticks(ks)\n",
    "    plt.show()\n",
    "\n",
    "\n",
    "########################################\n",
    "# scree_plot\n",
    "########################################\n",
    "def scree_plot(pca_object, export = False):\n",
    "    # building a scree plot\n",
    "\n",
    "    # setting plot size\n",
    "    fig, ax = plt.subplots(figsize=(10, 8))\n",
    "    features = range(pca_object.n_components_)\n",
    "\n",
    "\n",
    "    # developing a scree plot\n",
    "    plt.plot(features,\n",
    "             pca_object.explained_variance_ratio_,\n",
    "             linewidth = 2,\n",
    "             marker = 'o',\n",
    "             markersize = 10,\n",
    "             markeredgecolor = 'black',\n",
    "             markerfacecolor = 'grey')\n",
    "\n",
    "\n",
    "    # setting more plot options\n",
    "    plt.title('Scree Plot')\n",
    "    plt.xlabel('PCA feature')\n",
    "    plt.ylabel('Explained Variance')\n",
    "    plt.xticks(features)\n",
    "\n",
    "    if export == True:\n",
    "    \n",
    "        # exporting the plot\n",
    "        plt.savefig('top_customers_correlation_scree_plot.png')\n",
    "        \n",
    "    # displaying the plot\n",
    "    plt.show()"
   ]
  },
  {
   "cell_type": "markdown",
   "metadata": {
    "deletable": false,
    "editable": false,
    "run_control": {
     "frozen": true
    }
   },
   "source": [
    "***\n",
    "***\n",
    "\n",
    "<br>\n",
    "<h3>Part II: Agglomerative Clustering</h3><br>\n",
    "Agglomerative clustering starts where each observation is its own cluster. From there, it links observations  based on distance. There are three primary methods for calculating distance:<br><br>\n",
    "\n",
    "    ward (default) - groups observations into clusters in a way that minimizes \n",
    "    the variance amongst all clusters. Leads to clusters that are relatively\n",
    "    equal in size\n",
    "\n",
    "    average - merges clusters that have the smallest average distance\n",
    "    between all their points\n",
    "\n",
    "    complete - merges clusters that have the smallest maximum distance\n",
    "    between their points\n",
    "\n",
    "<br><br>\n",
    "<u>Primary Advantage</u><br>\n",
    "Able to generate a dendrogram to better understand data groupings and help determine the final number of clusters to develop.\n",
    "<br><br><br>\n",
    "<u>Primary Disadvantage</u><br>\n",
    "Unable to predict on new data.<br><br>\n",
    "\n",
    "<strong>Challenge 2</strong><br>\n",
    "Complete the code to prepare a scaled version of the dataset."
   ]
  },
  {
   "cell_type": "code",
   "execution_count": null,
   "metadata": {
    "solution2": "hidden",
    "solution2_first": true
   },
   "outputs": [],
   "source": [
    "# dropping demographic information\n",
    "purchase_behavior = _____\n",
    "\n",
    "\n",
    "# INSTANTIATING a StandardScaler() object\n",
    "scaler = _____\n",
    "\n",
    "\n",
    "# FITTING the scaler with the data\n",
    "scaler._____(_____)\n",
    "\n",
    "\n",
    "# TRANSFORMING our data after fit\n",
    "X_scaled = scaler._____(_____)\n",
    "\n",
    "\n",
    "# converting scaled data into a DataFrame\n",
    "purchases_scaled = pd.DataFrame(_____)\n",
    "\n",
    "\n",
    "# reattaching column names\n",
    "purchases_scaled._____ = purchase_behavior._____\n",
    "\n",
    "\n",
    "# checking pre- and post-scaling variance\n",
    "print(pd.np.var(purchase_behavior), '\\n\\n')\n",
    "print(pd.np.var(purchases_scaled))"
   ]
  },
  {
   "cell_type": "code",
   "execution_count": null,
   "metadata": {
    "deletable": false,
    "editable": false,
    "solution2": "hidden"
   },
   "outputs": [],
   "source": [
    "# dropping demographic information\n",
    "purchase_behavior = customers_df.drop(['Channel', 'Region'],\n",
    "                                      axis = 1)\n",
    "\n",
    "\n",
    "# INSTANTIATING a StandardScaler() object\n",
    "scaler = StandardScaler()\n",
    "\n",
    "\n",
    "# FITTING the scaler with the data\n",
    "scaler.fit(purchase_behavior)\n",
    "\n",
    "\n",
    "# TRANSFORMING our data after fit\n",
    "X_scaled = scaler.transform(purchase_behavior)\n",
    "\n",
    "\n",
    "# converting scaled data into a DataFrame\n",
    "purchases_scaled = pd.DataFrame(X_scaled)\n",
    "\n",
    "\n",
    "# reattaching column names\n",
    "purchases_scaled.columns = purchase_behavior.columns\n",
    "\n",
    "\n",
    "# checking pre- and post-scaling variance\n",
    "print(pd.np.var(purchase_behavior), '\\n\\n')\n",
    "print(pd.np.var(purchases_scaled))"
   ]
  },
  {
   "cell_type": "markdown",
   "metadata": {
    "deletable": false,
    "editable": false,
    "run_control": {
     "frozen": true
    }
   },
   "source": [
    "***\n",
    "***\n",
    "\n",
    "<br>\n",
    "Run the following code to develop a dendrogram."
   ]
  },
  {
   "cell_type": "code",
   "execution_count": null,
   "metadata": {
    "deletable": false,
    "editable": false
   },
   "outputs": [],
   "source": [
    "# grouping data based on Ward distance\n",
    "standard_mergings_ward = linkage(y = purchases_scaled,\n",
    "                                 method = 'ward')\n",
    "\n",
    "\n",
    "# setting plot size\n",
    "fig, ax = plt.subplots(figsize=(12, 12))\n",
    "\n",
    "# developing a dendrogram\n",
    "dendrogram(Z = standard_mergings_ward,\n",
    "           leaf_rotation = 90,\n",
    "           leaf_font_size = 6)\n",
    "\n",
    "\n",
    "# saving and displaying the plot\n",
    "plt.savefig('standard_hierarchical_clust_ward.png')\n",
    "plt.show()"
   ]
  },
  {
   "cell_type": "markdown",
   "metadata": {
    "deletable": false,
    "editable": false,
    "run_control": {
     "frozen": true
    }
   },
   "source": [
    "***\n",
    "***\n",
    "\n",
    "<br>\n",
    "<strong>Challenge 3</strong><br>\n",
    "Call the inertia_plot function to help determine the number of clusters to build."
   ]
  },
  {
   "cell_type": "code",
   "execution_count": null,
   "metadata": {
    "solution2": "hidden",
    "solution2_first": true
   },
   "outputs": [],
   "source": [
    "# calling the inertia_plot() function\n",
    "_____"
   ]
  },
  {
   "cell_type": "code",
   "execution_count": null,
   "metadata": {
    "deletable": false,
    "editable": false,
    "solution2": "hidden"
   },
   "outputs": [],
   "source": [
    "# calling the inertia_plot() function\n",
    "interia_plot(data = purchases_scaled)"
   ]
  },
  {
   "cell_type": "markdown",
   "metadata": {
    "deletable": false,
    "editable": false,
    "run_control": {
     "frozen": true
    }
   },
   "source": [
    "***\n",
    "***\n",
    "\n",
    "<br>\n",
    "<h3>Part III: k-Means Clustering</h3><br>\n",
    "If we know how many clusters we would like to build, we can take advantage of k-means clustering. This is a more robust way to create clusters and is also a technique that can be used to predict on new data."
   ]
  },
  {
   "cell_type": "code",
   "execution_count": null,
   "metadata": {
    "solution2": "hidden",
    "solution2_first": true
   },
   "outputs": [],
   "source": [
    "# INSTANTIATING a model object with k clusters\n",
    "customers_k3 = KMeans(n_clusters = _____,\n",
    "                      random_state = 802)\n",
    "\n",
    "\n",
    "# FITTING to the scaled data\n",
    "customers_k3._____(_____)\n",
    "\n",
    "\n",
    "# saving cluster labels as a DataFrame\n",
    "clusters = pd.DataFrame({'cluster': customers_k3.labels_})\n",
    "\n",
    "\n",
    "# checking the results\n",
    "print(clusters['cluster'].value_counts())"
   ]
  },
  {
   "cell_type": "code",
   "execution_count": null,
   "metadata": {
    "deletable": false,
    "editable": false,
    "solution2": "hidden"
   },
   "outputs": [],
   "source": [
    "# INSTANTIATING a model object with k clusters\n",
    "customers_k3 = KMeans(n_clusters = 3,\n",
    "                      random_state = 802)\n",
    "\n",
    "\n",
    "# FITTING to the scaled data\n",
    "customers_k3.fit(purchases_scaled)\n",
    "\n",
    "\n",
    "# saving cluster labels as a DataFrame\n",
    "clusters = pd.DataFrame({'cluster': customers_k3.labels_})\n",
    "\n",
    "\n",
    "# checking the results\n",
    "print(clusters['cluster'].value_counts())"
   ]
  },
  {
   "cell_type": "markdown",
   "metadata": {
    "deletable": false,
    "editable": false,
    "run_control": {
     "frozen": true
    }
   },
   "source": [
    "***\n",
    "***\n",
    "\n",
    "<br>\n",
    "We can use <strong>centriods</strong> (i.e. variable averages) to help interpret each cluster. This will help us to understand the characteristics of each potential segment in our data."
   ]
  },
  {
   "cell_type": "code",
   "execution_count": null,
   "metadata": {
    "deletable": false,
    "editable": false
   },
   "outputs": [],
   "source": [
    "# saving cluster centers\n",
    "centroids = customers_k3.cluster_centers_\n",
    "\n",
    "\n",
    "# converting centriods into a DataFrame\n",
    "centroids_df = pd.DataFrame(centroids)\n",
    "\n",
    "\n",
    "# renaming columns\n",
    "centroids_df.columns = customers_df.iloc[ : , 2:].columns\n",
    "\n",
    "\n",
    "# checking the results\n",
    "centroids_df.round(2)"
   ]
  },
  {
   "cell_type": "markdown",
   "metadata": {
    "deletable": false,
    "editable": false,
    "run_control": {
     "frozen": true
    }
   },
   "source": [
    "***"
   ]
  },
  {
   "cell_type": "code",
   "execution_count": null,
   "metadata": {
    "deletable": false,
    "editable": false
   },
   "outputs": [],
   "source": [
    "# saving the data to Excel\n",
    "centroids_df.to_excel('customers_k3_centriods.xlsx')"
   ]
  },
  {
   "cell_type": "markdown",
   "metadata": {
    "deletable": false,
    "editable": false,
    "run_control": {
     "frozen": true
    }
   },
   "source": [
    "***\n",
    "***\n",
    "\n",
    "<br>\n",
    "<strong>Challenge 4</strong><br>\n",
    "Complete the following code to develop a model with six clusters based on k-means."
   ]
  },
  {
   "cell_type": "code",
   "execution_count": null,
   "metadata": {
    "solution2": "hidden",
    "solution2_first": true
   },
   "outputs": [],
   "source": [
    "# INSTANTIATING a k-means object with 6 clusters\n",
    "customers_k6 = _____(_____,\n",
    "                     _____)\n",
    "\n",
    "\n",
    "# FITTING to the scaled data\n",
    "customers_k6._____(_____)\n",
    "\n",
    "\n",
    "# converting to a DataFrame\n",
    "customers_k6_clusters = _____._____({'cluster': _____.labels_})\n",
    "\n",
    "\n",
    "# checking the results\n",
    "print(customers_k6_clusters.iloc[: , 0].value_counts())"
   ]
  },
  {
   "cell_type": "code",
   "execution_count": null,
   "metadata": {
    "deletable": false,
    "editable": false,
    "scrolled": true,
    "solution2": "hidden"
   },
   "outputs": [],
   "source": [
    "# INSTANTIATING a k-means object with 6 clusters\n",
    "customers_k6 = KMeans(n_clusters = 6,\n",
    "                      random_state = 802)\n",
    "\n",
    "\n",
    "# FITTING to the scaled data\n",
    "customers_k6.fit(purchases_scaled)\n",
    "\n",
    "\n",
    "# converting to a DataFrame\n",
    "customers_k6_clusters = pd.DataFrame({'cluster': customers_k6.labels_})\n",
    "\n",
    "\n",
    "# checking the results\n",
    "print(customers_k6_clusters.iloc[: , 0].value_counts())"
   ]
  },
  {
   "cell_type": "markdown",
   "metadata": {
    "deletable": false,
    "editable": false,
    "run_control": {
     "frozen": true
    }
   },
   "source": [
    "***\n",
    "***\n",
    "\n",
    "<br>\n",
    "<strong>Challenge 5</strong><br>\n",
    "Complete the following code to output cluster centroids."
   ]
  },
  {
   "cell_type": "code",
   "execution_count": null,
   "metadata": {
    "solution2": "hidden",
    "solution2_first": true
   },
   "outputs": [],
   "source": [
    "# saving cluster centriods\n",
    "centroids_k6 = customers_k6._____\n",
    "\n",
    "\n",
    "# converting centroids to a DataFrame\n",
    "centroids_k6_df = _____\n",
    "\n",
    "\n",
    "# renaming columns\n",
    "centroids_k6_df.columns = customers_df._____[2:len(customers_df._____)]\n",
    "\n",
    "\n",
    "# checking results (rounded to two decimal places)\n",
    "_____"
   ]
  },
  {
   "cell_type": "code",
   "execution_count": null,
   "metadata": {
    "deletable": false,
    "editable": false,
    "solution2": "hidden"
   },
   "outputs": [],
   "source": [
    "# saving cluster centriods\n",
    "centroids_k6 = customers_k6.cluster_centers_\n",
    "\n",
    "\n",
    "# converting centroids to a DataFrame\n",
    "centroids_k6_df = pd.DataFrame(centroids_k6)\n",
    "\n",
    "\n",
    "# renaming columns\n",
    "centroids_k6_df.columns = customers_df.columns[2:len(customers_df.columns)]\n",
    "\n",
    "\n",
    "# checking results (rounded to two decimal places))\n",
    "centroids_k6_df.round(2)"
   ]
  },
  {
   "cell_type": "markdown",
   "metadata": {
    "deletable": false,
    "editable": false,
    "run_control": {
     "frozen": true
    }
   },
   "source": [
    "***"
   ]
  },
  {
   "cell_type": "code",
   "execution_count": null,
   "metadata": {
    "deletable": false,
    "editable": false
   },
   "outputs": [],
   "source": [
    "centroids_k6_df.to_excel('cutomers_k6_centriods.xlsx')"
   ]
  },
  {
   "cell_type": "markdown",
   "metadata": {
    "deletable": false,
    "editable": false,
    "run_control": {
     "frozen": true
    }
   },
   "source": [
    "***\n",
    "***\n",
    "\n",
    "<br>\n",
    "Adding cluster number to original observations."
   ]
  },
  {
   "cell_type": "code",
   "execution_count": null,
   "metadata": {
    "deletable": false,
    "editable": false,
    "scrolled": true
   },
   "outputs": [],
   "source": [
    "# concatenating cluster labels\n",
    "customers_df_plus = pd.concat([customers_df, pd.Series(customers_k6.labels_)],\n",
    "                              axis = 1)\n",
    "\n",
    "\n",
    "# renaming columns\n",
    "customers_df_plus.columns = ['Channel', 'Region', 'Mediterranean', 'Vegan',\n",
    "                             'Vegetarian', 'Middle Eastern', 'Indian', 'Wine',\n",
    "                             'Cluster']\n",
    "\n",
    "\n",
    "# sending results to Excel\n",
    "customers_df_plus.to_excel('customer_clusters.xlsx')\n",
    "\n",
    "\n",
    "# checking results\n",
    "customers_df_plus"
   ]
  },
  {
   "cell_type": "markdown",
   "metadata": {
    "deletable": false,
    "editable": false,
    "run_control": {
     "frozen": true
    }
   },
   "source": [
    "***\n",
    "***\n",
    "\n",
    "<br>\n",
    "\n",
    "~~~\n",
    "_________ .__                  __                       \n",
    "\\_   ___ \\|  |  __ __  _______/  |_  ___________  ______\n",
    "/    \\  \\/|  | |  |  \\/  ___/\\   __\\/ __ \\_  __ \\/  ___/\n",
    "\\     \\___|  |_|  |  /\\___ \\  |  | \\  ___/|  | \\/\\___ \\ \n",
    " \\______  /____/____//____  > |__|  \\___  >__|  /____  >\n",
    "        \\/                \\/            \\/           \\/ \n",
    "        _____                                           \n",
    "  _____/ ____\\                                          \n",
    " /  _ \\   __\\                                           \n",
    "(  <_> )  |                                             \n",
    " \\____/|__|                                             \n",
    "                                                        \n",
    "  _________                                       ._.   \n",
    " /   _____/__ __   ____  ____  ____   ______ _____| |   \n",
    " \\_____  \\|  |  \\_/ ___\\/ ___\\/ __ \\ /  ___//  ___/ |   \n",
    " /        \\  |  /\\  \\__\\  \\__\\  ___/ \\___ \\ \\___ \\ \\|   \n",
    "/_______  /____/  \\___  >___  >___  >____  >____  >__   \n",
    "        \\/            \\/    \\/    \\/     \\/     \\/ \\/   \n",
    "          \n",
    "~~~"
   ]
  },
  {
   "cell_type": "markdown",
   "metadata": {
    "deletable": false,
    "editable": false,
    "run_control": {
     "frozen": true
    }
   },
   "source": [
    " "
   ]
  }
 ],
 "metadata": {
  "kernelspec": {
   "display_name": "Python 3",
   "language": "python",
   "name": "python3"
  },
  "language_info": {
   "codemirror_mode": {
    "name": "ipython",
    "version": 3
   },
   "file_extension": ".py",
   "mimetype": "text/x-python",
   "name": "python",
   "nbconvert_exporter": "python",
   "pygments_lexer": "ipython3",
   "version": "3.6.9"
  },
  "toc": {
   "base_numbering": 1,
   "nav_menu": {},
   "number_sections": false,
   "sideBar": true,
   "skip_h1_title": false,
   "title_cell": "Table of Contents",
   "title_sidebar": "Contents",
   "toc_cell": false,
   "toc_position": {},
   "toc_section_display": true,
   "toc_window_display": false
  },
  "varInspector": {
   "cols": {
    "lenName": 16,
    "lenType": 16,
    "lenVar": 40
   },
   "kernels_config": {
    "python": {
     "delete_cmd_postfix": "",
     "delete_cmd_prefix": "del ",
     "library": "var_list.py",
     "varRefreshCmd": "print(var_dic_list())"
    },
    "r": {
     "delete_cmd_postfix": ") ",
     "delete_cmd_prefix": "rm(",
     "library": "var_list.r",
     "varRefreshCmd": "cat(var_dic_list()) "
    }
   },
   "types_to_exclude": [
    "module",
    "function",
    "builtin_function_or_method",
    "instance",
    "_Feature"
   ],
   "window_display": false
  }
 },
 "nbformat": 4,
 "nbformat_minor": 2
}
