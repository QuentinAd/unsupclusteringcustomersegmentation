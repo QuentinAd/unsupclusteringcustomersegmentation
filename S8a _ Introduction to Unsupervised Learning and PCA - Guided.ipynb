{
 "cells": [
  {
   "cell_type": "markdown",
   "metadata": {
    "deletable": false,
    "editable": false,
    "run_control": {
     "frozen": true
    }
   },
   "source": [
    "***\n",
    "***\n",
    "***\n",
    "\n",
    "<br><h2>Session 8a | Introduction to Unsupervised Learning and Principal Component Analysis</h2>\n",
    "<h4>DAT-5303 | Machine Learning</h4>\n",
    "Chase Kusterer - Faculty of Analytics<br>\n",
    "Hult International Business School<br><br><br>\n",
    "\n",
    "***\n",
    "***\n",
    "***"
   ]
  },
  {
   "cell_type": "markdown",
   "metadata": {
    "deletable": false,
    "editable": false,
    "run_control": {
     "frozen": true
    }
   },
   "source": [
    "<h3>Part I: Preparation</h3><br>\n",
    "Run the following code to import necessary packages, load data, and set display options. "
   ]
  },
  {
   "cell_type": "code",
   "execution_count": null,
   "metadata": {
    "deletable": false,
    "editable": false
   },
   "outputs": [],
   "source": [
    "########################################\n",
    "# importing packages\n",
    "########################################\n",
    "import pandas            as pd  # data science essentials\n",
    "import matplotlib.pyplot as plt # fundamental data visualization\n",
    "import seaborn           as sns # enhanced visualization\n",
    "import sys                      # system-specific parameters and functions\n",
    "\n",
    "\n",
    "# new libraries\n",
    "from sklearn.decomposition import PCA            # pca\n",
    "from sklearn.datasets      import load_digits    # digits dataset\n",
    "from sklearn.manifold      import TSNE           # t-SNE\n",
    "\n",
    "\n",
    "########################################\n",
    "# loading data and setting display options\n",
    "########################################\n",
    "# loading data\n",
    "digits = load_digits()\n",
    "\n",
    "\n",
    "# setting print options\n",
    "pd.set_option('display.max_rows', 500)\n",
    "pd.set_option('display.max_columns', 500)\n",
    "pd.set_option('display.width', 1000)\n",
    "pd.set_option('display.max_colwidth', 100)\n",
    "pd.np.set_printoptions(threshold=sys.maxsize)\n",
    "\n",
    "\n",
    "########################################\n",
    "# chacking the type of the dataset\n",
    "########################################\n",
    "type(digits)"
   ]
  },
  {
   "cell_type": "markdown",
   "metadata": {
    "deletable": false,
    "editable": false,
    "run_control": {
     "frozen": true
    }
   },
   "source": [
    "***\n",
    "***\n",
    "\n",
    "<br>\n",
    "<strong>User-Defined Functions</strong><br>\n",
    "Run the following code to load the user-defined functions used throughout this Notebook."
   ]
  },
  {
   "cell_type": "code",
   "execution_count": null,
   "metadata": {
    "deletable": false,
    "editable": false
   },
   "outputs": [],
   "source": [
    "########################################\n",
    "# pca_plotter\n",
    "########################################\n",
    "# optional color scheme\n",
    "colors_lst = [\"#476A2A\", \"#7851B8\", \"#BD3430\", \"#4A2D4E\", \"#875525\",\n",
    "              \"#A83683\", \"#4E655E\", \"#853541\", \"#3A3120\", \"#535D8E\"]\n",
    "\n",
    "\n",
    "# pca_plotter\n",
    "def pca_plotter(bunch, colors = None):\n",
    "    \"\"\"\n",
    "PARAMETERS\n",
    "----------\n",
    "bunch        : Bunch object to be used in PCA\n",
    "colors       : color coding for target labels, default None\n",
    "\"\"\"\n",
    "\n",
    "    # INSTANTIATING a PCA object\n",
    "    pca = PCA(n_components = 2,\n",
    "              random_state = 802)\n",
    "\n",
    "\n",
    "    # FITTING and TRANSFORMING the data\n",
    "    dataset_pca = pca.fit_transform(bunch.data)\n",
    "\n",
    "    \n",
    "    # setting figure options\n",
    "    plt.figure(figsize=(10, 10))\n",
    "    plt.xlim(dataset_pca[:, 0].min(), dataset_pca[:, 0].max())\n",
    "    plt.ylim(dataset_pca[:, 1].min(), dataset_pca[:, 1].max())\n",
    "\n",
    "\n",
    "    # data vizualization\n",
    "    for i in range(len(bunch.data)):\n",
    "\n",
    "        plt.text(dataset_pca[i, 0],\n",
    "                 dataset_pca[i, 1],\n",
    "                 str(bunch.target[i]),\n",
    "                 color = colors[bunch.target[i]],\n",
    "                 fontdict={'weight': 'bold', 'size': 9})\n",
    "\n",
    "    plt.xlabel(\"First principal component\")\n",
    "    plt.ylabel(\"Second principal component\")\n",
    "    plt.show()\n",
    "\n",
    "    \n",
    "########################################\n",
    "# tsne_plotter\n",
    "########################################\n",
    "# optional color scheme\n",
    "colors_lst = [\"#476A2A\", \"#7851B8\", \"#BD3430\", \"#4A2D4E\", \"#875525\",\n",
    "              \"#A83683\", \"#4E655E\", \"#853541\", \"#3A3120\", \"#535D8E\"]\n",
    "\n",
    "\n",
    "# tsne_plotter\n",
    "def tsne_plotter(bunch, colors = None):\n",
    "    \"\"\"\n",
    "PARAMETERS\n",
    "----------\n",
    "bunch        : Bunch object to be used in TSNE\n",
    "colors       : color coding for target labels, default None\n",
    "\"\"\"\n",
    "    \n",
    "    # INSTANTIATING a PCA object\n",
    "    tsne = TSNE(random_state = 508)\n",
    "\n",
    "    \n",
    "    # FITTING and TRANSFORMING the data\n",
    "    dataset_tsne = tsne.fit_transform(bunch.data)\n",
    "\n",
    "    \n",
    "    # setting figure options\n",
    "    plt.figure(figsize=(10, 10))\n",
    "    plt.xlim(dataset_tsne[:, 0].min(), dataset_tsne[:, 0].max() + 1)\n",
    "    plt.ylim(dataset_tsne[:, 1].min(), dataset_tsne[:, 1].max() + 1)\n",
    "\n",
    "    \n",
    "    # data vizualization\n",
    "    for i in range(len(bunch.data)):\n",
    "\n",
    "        plt.text(dataset_tsne[i, 0],\n",
    "                 dataset_tsne[i, 1],\n",
    "                 str(bunch.target[i]),\n",
    "                 color = colors[bunch.target[i]],\n",
    "                 fontdict={'weight': 'bold', 'size': 9})\n",
    "\n",
    "    plt.xlabel(\"t-SNE feature 0\")\n",
    "    plt.xlabel(\"t-SNE feature 1\")\n",
    "    plt.show()"
   ]
  },
  {
   "cell_type": "markdown",
   "metadata": {
    "deletable": false,
    "editable": false,
    "run_control": {
     "frozen": true
    }
   },
   "source": [
    "***\n",
    "***\n",
    "\n",
    "<br>\n",
    "\n",
    "Unlike the previous datasets analyzed in this course, the digits data is a <a href=\"https://pypi.org/project/bunch/\">Bunch object</a>. A Bunch is very similar to a dictionary. In fact, it is a subclass of a dictionary that is highly compatible with Javascript (JSON) and YAML, making it an incredibly useful structure. <strong>It is very likely that you will encounter this structure as a business analyst</strong>. It is commonly used in data that is collected digitally.<br><br>\n",
    "To get started, let's take a look at the keys of this object. Keys can be thought of in the same way as primary keys in a relational database (they uniquely identify each table of information). Unlike relational databases, Bunch objects generally do not hve relationships (linkage) between tables."
   ]
  },
  {
   "cell_type": "code",
   "execution_count": null,
   "metadata": {
    "deletable": false,
    "editable": false
   },
   "outputs": [],
   "source": [
    "digits.keys()"
   ]
  },
  {
   "cell_type": "markdown",
   "metadata": {
    "deletable": false,
    "editable": false,
    "run_control": {
     "frozen": true
    }
   },
   "source": [
    "***\n",
    "***\n",
    "\n",
    "<br>\n",
    "As with anything new in data science, it is important to <strong>read the documentation</strong>. For the digits dataset, this information can be found under the key <strong>'DESCR'</strong>. Note that this is different from accessing a help( ) file, which provides documentation on Python objects as opposed to data.<br><br><br>\n",
    "<strong>Challenge 1</strong><br>\n",
    "Complete the code below to access the description of the digits dataset."
   ]
  },
  {
   "cell_type": "code",
   "execution_count": null,
   "metadata": {},
   "outputs": [],
   "source": [
    "print(digits.get(_____))"
   ]
  },
  {
   "cell_type": "markdown",
   "metadata": {
    "deletable": false,
    "editable": false,
    "run_control": {
     "frozen": true
    }
   },
   "source": [
    "***\n",
    "***\n",
    "\n",
    "<br>\n",
    "<strong>Challenge 2</strong><br>\n",
    "Write code to access the information in the <strong>'data'</strong> key for the digits dataset."
   ]
  },
  {
   "cell_type": "code",
   "execution_count": null,
   "metadata": {},
   "outputs": [],
   "source": [
    "# printing description\n",
    "_____"
   ]
  },
  {
   "cell_type": "markdown",
   "metadata": {
    "deletable": false,
    "editable": false,
    "run_control": {
     "frozen": true
    }
   },
   "source": [
    "***\n",
    "***\n",
    "\n",
    "<br>\n",
    "<strong>Challenge 3</strong><br>\n",
    "Write code to access the information in the <strong>'target'</strong> key for the digits dataset."
   ]
  },
  {
   "cell_type": "code",
   "execution_count": null,
   "metadata": {},
   "outputs": [],
   "source": [
    "# printing target\n",
    "_____"
   ]
  },
  {
   "cell_type": "markdown",
   "metadata": {
    "deletable": false,
    "editable": false,
    "run_control": {
     "frozen": true
    }
   },
   "source": [
    "***\n",
    "***\n",
    "\n",
    "<br>\n",
    "<strong>Challenge 4</strong><br>\n",
    "Write code to access the information in the <strong>'target_names'</strong> key for the digits dataset."
   ]
  },
  {
   "cell_type": "code",
   "execution_count": null,
   "metadata": {},
   "outputs": [],
   "source": [
    "# printing target_names\n",
    "_____"
   ]
  },
  {
   "cell_type": "markdown",
   "metadata": {
    "deletable": false,
    "editable": false,
    "run_control": {
     "frozen": true
    }
   },
   "source": [
    "***\n",
    "***\n",
    "\n",
    "<br>\n",
    "<strong>Challenge 5</strong><br>\n",
    "Write code to access the information in the <strong>'images'</strong> key for the digits dataset."
   ]
  },
  {
   "cell_type": "code",
   "execution_count": null,
   "metadata": {},
   "outputs": [],
   "source": [
    "# printing images\n",
    "_____"
   ]
  },
  {
   "cell_type": "markdown",
   "metadata": {
    "deletable": false,
    "editable": false,
    "run_control": {
     "frozen": true
    }
   },
   "source": [
    "***\n",
    "***\n",
    "\n",
    "<br>\n",
    "<h3>Part II: Understanding Image Data</h3><br>\n",
    "Note that each of the original hand-written digits was written on white paper with black ink, creating <a href=\"https://whatis.techtarget.com/definition/grayscale\">grayscale images</a>. As can be observed from above, each image is stored as a matrix of numbers, and each number represents the amount of shading in a given cell. A value of 0 implies that a cell was completely white and a value of 16 implies that a cell was completely black.<br><br>\n",
    "Notice also that since each image is its own matrix, we have three dimensions of indexing, which can be interpreted as follows:<br><br>\n",
    "\n",
    "~~~\n",
    "[IMAGE NUMBER, ROWS, COLUMNS]\n",
    "~~~\n",
    "\n",
    "<br>\n",
    "Run the following code to output the shape of 'images'. "
   ]
  },
  {
   "cell_type": "code",
   "execution_count": null,
   "metadata": {
    "deletable": false,
    "editable": false
   },
   "outputs": [],
   "source": [
    "digits.get('images').shape"
   ]
  },
  {
   "cell_type": "markdown",
   "metadata": {
    "deletable": false,
    "editable": false,
    "run_control": {
     "frozen": true
    }
   },
   "source": [
    "***\n",
    "***\n",
    "\n",
    "<br>\n",
    "Run the following code to store the first image as an object and view its numerical matrix."
   ]
  },
  {
   "cell_type": "code",
   "execution_count": null,
   "metadata": {
    "deletable": false,
    "editable": false
   },
   "outputs": [],
   "source": [
    "digit_images = digits.get('images')\n",
    "first_digit = digit_images[0, :, :]\n",
    "\n",
    "print(first_digit)"
   ]
  },
  {
   "cell_type": "markdown",
   "metadata": {
    "deletable": false,
    "editable": false,
    "run_control": {
     "frozen": true
    }
   },
   "source": [
    "***\n",
    "***\n",
    "\n",
    "<br>\n",
    "<strong>Challenge 6</strong><br>\n",
    "Based on the matrix above, can you guess the digit for the first image in the dataset?<br><br><br>\n",
    "\n",
    "***\n",
    "***\n",
    "\n",
    "<br>\n",
    "<strong>Challenge 7</strong><br>\n",
    "As with many aspects of data analysis, it may be easier to visualize an image in order to improve efficiency of interpretation. As such, use the space below to develop a heatmap for the first digit."
   ]
  },
  {
   "cell_type": "code",
   "execution_count": null,
   "metadata": {},
   "outputs": [],
   "source": [
    "# setting display size\n",
    "fig, ax = plt.subplots(figsize = (10,10))\n",
    "\n",
    "\n",
    "# creating a heatmap\n",
    "\n",
    "\n",
    "\n",
    "# displaying the plot\n",
    "\n",
    "\n"
   ]
  },
  {
   "cell_type": "markdown",
   "metadata": {
    "deletable": false,
    "editable": false,
    "run_control": {
     "frozen": true
    }
   },
   "source": [
    "***\n",
    "***\n",
    "\n",
    "<br>\n",
    "Run the following code to view images for each digit."
   ]
  },
  {
   "cell_type": "code",
   "execution_count": null,
   "metadata": {
    "deletable": false,
    "editable": false,
    "scrolled": true
   },
   "outputs": [],
   "source": [
    "# printing digit images\n",
    "fig, ax = plt.subplots(2, 5,\n",
    "                       figsize=(12, 5),\n",
    "                       subplot_kw={'xticks':(),\n",
    "                                   'yticks': ()})\n",
    "\n",
    "\n",
    "for axes, img in zip(ax.ravel(), digits.images):\n",
    "    axes.imshow(img)"
   ]
  },
  {
   "cell_type": "markdown",
   "metadata": {},
   "source": [
    "***\n",
    "***\n",
    "\n",
    "<br>\n",
    "<h3>Part III: Principal Component Analysis (PCA)</h3><br>\n",
    "Note that the data should be scaled before running PCA. This has already been done for the digits data.\n",
    "\n",
    "* no train/test split because no response variable (this set has one because it's also a classification problem)\n",
    "* instantiate, fit, transform\n",
    "* no score step because no response variable"
   ]
  },
  {
   "cell_type": "code",
   "execution_count": null,
   "metadata": {
    "deletable": false,
    "editable": false
   },
   "outputs": [],
   "source": [
    "# INSTANTIATING a PCA model\n",
    "pca = PCA(n_components = 2,\n",
    "          random_state = 802)\n",
    "\n",
    "\n",
    "# FITTING and TRANSFORMING the digits data\n",
    "digits_pca = pca.fit_transform(digits.data)"
   ]
  },
  {
   "cell_type": "markdown",
   "metadata": {
    "deletable": false,
    "editable": false,
    "run_control": {
     "frozen": true
    }
   },
   "source": [
    "***\n",
    "***\n",
    "\n",
    "<br>\n",
    "It is important to understand how much variance has been accounted for by each critical component. We can do so through the attribute <strong>.explained_variance_ratio_</strong> on the instantiated object as in the coding cell below."
   ]
  },
  {
   "cell_type": "code",
   "execution_count": null,
   "metadata": {
    "deletable": false,
    "editable": false
   },
   "outputs": [],
   "source": [
    "pca.explained_variance_ratio_"
   ]
  },
  {
   "cell_type": "markdown",
   "metadata": {
    "deletable": false,
    "editable": false,
    "run_control": {
     "frozen": true
    }
   },
   "source": [
    "***\n",
    "***\n",
    "\n",
    "<br>\n",
    "Also note that since the model was limited to two principal components, we are able to graph its results."
   ]
  },
  {
   "cell_type": "code",
   "execution_count": null,
   "metadata": {
    "deletable": false,
    "editable": false
   },
   "outputs": [],
   "source": [
    "# calling pca_plotter\n",
    "pca_plotter(bunch  = digits,\n",
    "            colors = colors_lst)"
   ]
  },
  {
   "cell_type": "markdown",
   "metadata": {
    "deletable": false,
    "editable": false,
    "run_control": {
     "frozen": true
    }
   },
   "source": [
    "***\n",
    "***\n",
    "\n",
    "<br>\n",
    "As can be observed, several of the digits overlap in terms of their <strong>factor loadings</strong>, or values for each principal component. Visually, this can be addressed using an unsupervised learning technique known as <a href=\"https://scikit-learn.org/stable/modules/generated/sklearn.manifold.TSNE.html\">t-distributed Stochastic Neighbor Embedding (TSNE)</a>. This technique is used to visualize similarities between high dimensional data.<br><br>\n",
    "<strong>TSNE</strong><br>\n",
    "Run the following code to more dramatically visualize the similarities between observations in the digits dataset."
   ]
  },
  {
   "cell_type": "code",
   "execution_count": null,
   "metadata": {
    "deletable": false,
    "editable": false
   },
   "outputs": [],
   "source": [
    "# calling tsne_plotter\n",
    "tsne_plotter(bunch = digits,\n",
    "             colors = colors_lst)"
   ]
  },
  {
   "cell_type": "markdown",
   "metadata": {
    "deletable": false,
    "editable": false,
    "run_control": {
     "frozen": true
    }
   },
   "source": [
    "***\n",
    "***\n",
    "\n",
    "<br>\n",
    "\n",
    "~~~\n",
    "  _____   ___    ___  ____  ____    ____                                \n",
    " / ___/  /  _]  /  _]|    ||    \\  /    |                               \n",
    "(   \\_  /  [_  /  [_  |  | |  _  ||   __|                               \n",
    " \\__  ||    _]|    _] |  | |  |  ||  |  |                               \n",
    " /  \\ ||   [_ |   [_  |  | |  |  ||  |_ |                               \n",
    " \\    ||     ||     | |  | |  |  ||     |                               \n",
    "  \\___||_____||_____||____||__|__||___,_|                               \n",
    "                                                                        \n",
    " ____   ____  ______  ______    ___  ____   ____   _____                \n",
    "|    \\ /    ||      ||      |  /  _]|    \\ |    \\ / ___/                \n",
    "|  o  )  o  ||      ||      | /  [_ |  D  )|  _  (   \\_                 \n",
    "|   _/|     ||_|  |_||_|  |_||    _]|    / |  |  |\\__  |                \n",
    "|  |  |  _  |  |  |    |  |  |   [_ |    \\ |  |  |/  \\ |                \n",
    "|  |  |  |  |  |  |    |  |  |     ||  .  \\|  |  |\\    |                \n",
    "|__|  |__|__|  |__|    |__|  |_____||__|\\_||__|__| \\___|                \n",
    "                                                                        \n",
    " ____  ____                                                             \n",
    "|    ||    \\                                                            \n",
    " |  | |  _  |                                                           \n",
    " |  | |  |  |                                                           \n",
    " |  | |  |  |                                                           \n",
    " |  | |  |  |                                                           \n",
    "|____||__|__|                                                           \n",
    "                                                                        \n",
    "    __   ___   ___ ___  ____  _        ___  __ __                       \n",
    "   /  ] /   \\ |   |   ||    \\| |      /  _]|  |  |                      \n",
    "  /  / |     || _   _ ||  o  ) |     /  [_ |  |  |                      \n",
    " /  /  |  O  ||  \\_/  ||   _/| |___ |    _]|_   _|                      \n",
    "/   \\_ |     ||   |   ||  |  |     ||   [_ |     |                      \n",
    "\\     ||     ||   |   ||  |  |     ||     ||  |  |                      \n",
    " \\____| \\___/ |___|___||__|  |_____||_____||__|__|                      \n",
    "                                                                        \n",
    "  _____ ____  ______  __ __   ____  ______  ____  ___   ____   _____ __ \n",
    " / ___/|    ||      ||  |  | /    ||      ||    |/   \\ |    \\ / ___/|  |\n",
    "(   \\_  |  | |      ||  |  ||  o  ||      | |  ||     ||  _  (   \\_ |  |\n",
    " \\__  | |  | |_|  |_||  |  ||     ||_|  |_| |  ||  O  ||  |  |\\__  ||__|\n",
    " /  \\ | |  |   |  |  |  :  ||  _  |  |  |   |  ||     ||  |  |/  \\ | __ \n",
    " \\    | |  |   |  |  |     ||  |  |  |  |   |  ||     ||  |  |\\    ||  |\n",
    "  \\___||____|  |__|   \\__,_||__|__|  |__|  |____|\\___/ |__|__| \\___||__|\n",
    "                                                                        \n",
    "~~~"
   ]
  },
  {
   "cell_type": "markdown",
   "metadata": {
    "deletable": false,
    "editable": false,
    "run_control": {
     "frozen": true
    }
   },
   "source": [
    " "
   ]
  }
 ],
 "metadata": {
  "kernelspec": {
   "display_name": "Python 3",
   "language": "python",
   "name": "python3"
  },
  "language_info": {
   "codemirror_mode": {
    "name": "ipython",
    "version": 3
   },
   "file_extension": ".py",
   "mimetype": "text/x-python",
   "name": "python",
   "nbconvert_exporter": "python",
   "pygments_lexer": "ipython3",
   "version": "3.6.9"
  },
  "toc": {
   "base_numbering": 1,
   "nav_menu": {},
   "number_sections": false,
   "sideBar": true,
   "skip_h1_title": false,
   "title_cell": "Table of Contents",
   "title_sidebar": "Contents",
   "toc_cell": false,
   "toc_position": {},
   "toc_section_display": true,
   "toc_window_display": false
  },
  "varInspector": {
   "cols": {
    "lenName": 16,
    "lenType": 16,
    "lenVar": 40
   },
   "kernels_config": {
    "python": {
     "delete_cmd_postfix": "",
     "delete_cmd_prefix": "del ",
     "library": "var_list.py",
     "varRefreshCmd": "print(var_dic_list())"
    },
    "r": {
     "delete_cmd_postfix": ") ",
     "delete_cmd_prefix": "rm(",
     "library": "var_list.r",
     "varRefreshCmd": "cat(var_dic_list()) "
    }
   },
   "types_to_exclude": [
    "module",
    "function",
    "builtin_function_or_method",
    "instance",
    "_Feature"
   ],
   "window_display": false
  }
 },
 "nbformat": 4,
 "nbformat_minor": 2
}
